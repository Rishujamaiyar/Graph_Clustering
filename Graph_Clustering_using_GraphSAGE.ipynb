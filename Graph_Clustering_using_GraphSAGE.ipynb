{
  "nbformat": 4,
  "nbformat_minor": 0,
  "metadata": {
    "colab": {
      "name": "Graph_Clustering_using_GraphSAGE.ipynb",
      "provenance": []
    },
    "kernelspec": {
      "name": "python3",
      "display_name": "Python 3"
    }
  },
  "cells": [
    {
      "cell_type": "markdown",
      "metadata": {
        "id": "68aV74HDsfp8"
      },
      "source": [
        "#### Importing Libraries"
      ]
    },
    {
      "cell_type": "code",
      "metadata": {
        "id": "snG9DmkG_pOD",
        "colab": {
          "base_uri": "https://localhost:8080/"
        },
        "outputId": "0b4e635f-7033-4255-a499-120da3771851"
      },
      "source": [
        "import sys\n",
        "if 'google.colab' in sys.modules:\n",
        "  %pip install -q stellargraph[demos]==1.0.0rc1\n",
        "\n",
        "  # verify that we're using the correct version of StellarGraph for this notebook\n",
        "import stellargraph as sg\n",
        "\n",
        "try:\n",
        "    sg.utils.validate_notebook_version(\"1.0.0rc1\")\n",
        "except AttributeError:\n",
        "    raise ValueError(\n",
        "        f\"This notebook requires StellarGraph version 1.0.0rc1, but a different version {sg.__version__} is installed.  Please see <https://github.com/stellargraph/stellargraph/issues/1172>.\"\n",
        "    ) from None\n"
      ],
      "execution_count": 1,
      "outputs": [
        {
          "output_type": "stream",
          "text": [
            "\u001b[K     |████████████████████████████████| 378kB 4.0MB/s \n",
            "\u001b[K     |████████████████████████████████| 235kB 22.3MB/s \n",
            "\u001b[K     |████████████████████████████████| 51kB 5.8MB/s \n",
            "\u001b[?25h  Building wheel for mplleaflet (setup.py) ... \u001b[?25l\u001b[?25hdone\n"
          ],
          "name": "stdout"
        }
      ]
    },
    {
      "cell_type": "code",
      "metadata": {
        "id": "VQPotB4L_77z"
      },
      "source": [
        "import networkx as nx\n",
        "import pandas as pd\n",
        "import numpy as np\n",
        "import os\n",
        "import random\n",
        "\n",
        "import stellargraph as sg\n",
        "from stellargraph.data import EdgeSplitter\n",
        "from stellargraph.mapper import GraphSAGELinkGenerator\n",
        "from stellargraph.layer import GraphSAGE, link_classification\n",
        "from stellargraph.data import UniformRandomWalk\n",
        "from stellargraph.data import UnsupervisedSampler\n",
        "from sklearn.model_selection import train_test_split\n",
        "\n",
        "from tensorflow import keras\n",
        "from sklearn import preprocessing, feature_extraction, model_selection\n",
        "from sklearn.linear_model import LogisticRegressionCV, LogisticRegression\n",
        "from sklearn.metrics import accuracy_score\n",
        "\n",
        "from stellargraph import globalvar\n",
        "\n",
        "from stellargraph import datasets\n",
        "from IPython.display import display, HTML"
      ],
      "execution_count": 2,
      "outputs": []
    },
    {
      "cell_type": "markdown",
      "metadata": {
        "id": "FPu-fu2dsm5w"
      },
      "source": [
        "#### Data Loading"
      ]
    },
    {
      "cell_type": "code",
      "metadata": {
        "id": "qxVmdAO9_9MJ",
        "colab": {
          "base_uri": "https://localhost:8080/",
          "height": 424
        },
        "outputId": "1a927d59-d556-4716-cf54-cf6b2d52db45"
      },
      "source": [
        "keyword_links=pd.read_csv('/content/stack_network_links.csv')\n",
        "keyword_links=keyword_links.drop(columns=\"value\")\n",
        "keyword_links"
      ],
      "execution_count": 3,
      "outputs": [
        {
          "output_type": "execute_result",
          "data": {
            "text/html": [
              "<div>\n",
              "<style scoped>\n",
              "    .dataframe tbody tr th:only-of-type {\n",
              "        vertical-align: middle;\n",
              "    }\n",
              "\n",
              "    .dataframe tbody tr th {\n",
              "        vertical-align: top;\n",
              "    }\n",
              "\n",
              "    .dataframe thead th {\n",
              "        text-align: right;\n",
              "    }\n",
              "</style>\n",
              "<table border=\"1\" class=\"dataframe\">\n",
              "  <thead>\n",
              "    <tr style=\"text-align: right;\">\n",
              "      <th></th>\n",
              "      <th>source</th>\n",
              "      <th>target</th>\n",
              "    </tr>\n",
              "  </thead>\n",
              "  <tbody>\n",
              "    <tr>\n",
              "      <th>0</th>\n",
              "      <td>azure</td>\n",
              "      <td>.net</td>\n",
              "    </tr>\n",
              "    <tr>\n",
              "      <th>1</th>\n",
              "      <td>sql-server</td>\n",
              "      <td>.net</td>\n",
              "    </tr>\n",
              "    <tr>\n",
              "      <th>2</th>\n",
              "      <td>asp.net</td>\n",
              "      <td>.net</td>\n",
              "    </tr>\n",
              "    <tr>\n",
              "      <th>3</th>\n",
              "      <td>entity-framework</td>\n",
              "      <td>.net</td>\n",
              "    </tr>\n",
              "    <tr>\n",
              "      <th>4</th>\n",
              "      <td>wpf</td>\n",
              "      <td>.net</td>\n",
              "    </tr>\n",
              "    <tr>\n",
              "      <th>...</th>\n",
              "      <td>...</td>\n",
              "      <td>...</td>\n",
              "    </tr>\n",
              "    <tr>\n",
              "      <th>485</th>\n",
              "      <td>objective-c</td>\n",
              "      <td>xcode</td>\n",
              "    </tr>\n",
              "    <tr>\n",
              "      <th>486</th>\n",
              "      <td>swift</td>\n",
              "      <td>xcode</td>\n",
              "    </tr>\n",
              "    <tr>\n",
              "      <th>487</th>\n",
              "      <td>iphone</td>\n",
              "      <td>xcode</td>\n",
              "    </tr>\n",
              "    <tr>\n",
              "      <th>488</th>\n",
              "      <td>ios</td>\n",
              "      <td>xcode</td>\n",
              "    </tr>\n",
              "    <tr>\n",
              "      <th>489</th>\n",
              "      <td>json</td>\n",
              "      <td>xml</td>\n",
              "    </tr>\n",
              "  </tbody>\n",
              "</table>\n",
              "<p>490 rows × 2 columns</p>\n",
              "</div>"
            ],
            "text/plain": [
              "               source target\n",
              "0               azure   .net\n",
              "1          sql-server   .net\n",
              "2             asp.net   .net\n",
              "3    entity-framework   .net\n",
              "4                 wpf   .net\n",
              "..                ...    ...\n",
              "485       objective-c  xcode\n",
              "486             swift  xcode\n",
              "487            iphone  xcode\n",
              "488               ios  xcode\n",
              "489              json    xml\n",
              "\n",
              "[490 rows x 2 columns]"
            ]
          },
          "metadata": {
            "tags": []
          },
          "execution_count": 3
        }
      ]
    },
    {
      "cell_type": "code",
      "metadata": {
        "id": "IC0fuiWwBqun",
        "colab": {
          "base_uri": "https://localhost:8080/",
          "height": 455
        },
        "outputId": "75bb44ba-c561-4a12-ebef-0b88d68e99e2"
      },
      "source": [
        "keyword_features=pd.read_csv('/content/stack_network_nodes.csv')\n",
        "keyword_features=keyword_features.drop(columns=\"nodesize\")\n",
        "keyword_features=keyword_features.set_index(\"name\")\n",
        "\n",
        "keyword_group_raw=keyword_features\n",
        "keyword_group_raw"
      ],
      "execution_count": 4,
      "outputs": [
        {
          "output_type": "execute_result",
          "data": {
            "text/html": [
              "<div>\n",
              "<style scoped>\n",
              "    .dataframe tbody tr th:only-of-type {\n",
              "        vertical-align: middle;\n",
              "    }\n",
              "\n",
              "    .dataframe tbody tr th {\n",
              "        vertical-align: top;\n",
              "    }\n",
              "\n",
              "    .dataframe thead th {\n",
              "        text-align: right;\n",
              "    }\n",
              "</style>\n",
              "<table border=\"1\" class=\"dataframe\">\n",
              "  <thead>\n",
              "    <tr style=\"text-align: right;\">\n",
              "      <th></th>\n",
              "      <th>group</th>\n",
              "    </tr>\n",
              "    <tr>\n",
              "      <th>name</th>\n",
              "      <th></th>\n",
              "    </tr>\n",
              "  </thead>\n",
              "  <tbody>\n",
              "    <tr>\n",
              "      <th>html</th>\n",
              "      <td>6</td>\n",
              "    </tr>\n",
              "    <tr>\n",
              "      <th>css</th>\n",
              "      <td>6</td>\n",
              "    </tr>\n",
              "    <tr>\n",
              "      <th>hibernate</th>\n",
              "      <td>8</td>\n",
              "    </tr>\n",
              "    <tr>\n",
              "      <th>spring</th>\n",
              "      <td>8</td>\n",
              "    </tr>\n",
              "    <tr>\n",
              "      <th>ruby</th>\n",
              "      <td>3</td>\n",
              "    </tr>\n",
              "    <tr>\n",
              "      <th>...</th>\n",
              "      <td>...</td>\n",
              "    </tr>\n",
              "    <tr>\n",
              "      <th>perl</th>\n",
              "      <td>13</td>\n",
              "    </tr>\n",
              "    <tr>\n",
              "      <th>cloud</th>\n",
              "      <td>9</td>\n",
              "    </tr>\n",
              "    <tr>\n",
              "      <th>photoshop</th>\n",
              "      <td>6</td>\n",
              "    </tr>\n",
              "    <tr>\n",
              "      <th>powershell</th>\n",
              "      <td>5</td>\n",
              "    </tr>\n",
              "    <tr>\n",
              "      <th>matlab</th>\n",
              "      <td>1</td>\n",
              "    </tr>\n",
              "  </tbody>\n",
              "</table>\n",
              "<p>115 rows × 1 columns</p>\n",
              "</div>"
            ],
            "text/plain": [
              "            group\n",
              "name             \n",
              "html            6\n",
              "css             6\n",
              "hibernate       8\n",
              "spring          8\n",
              "ruby            3\n",
              "...           ...\n",
              "perl           13\n",
              "cloud           9\n",
              "photoshop       6\n",
              "powershell      5\n",
              "matlab          1\n",
              "\n",
              "[115 rows x 1 columns]"
            ]
          },
          "metadata": {
            "tags": []
          },
          "execution_count": 4
        }
      ]
    },
    {
      "cell_type": "code",
      "metadata": {
        "id": "e9k4j9bsDGas",
        "colab": {
          "base_uri": "https://localhost:8080/",
          "height": 475
        },
        "outputId": "b230ba13-bc98-456f-b87d-2a6f1b2ba179"
      },
      "source": [
        "#Entering node features as One-hot encoding\n",
        "keyword_features=pd.get_dummies(keyword_features,columns=[\"group\"])\n",
        "keyword_group=keyword_features\n",
        "keyword_group"
      ],
      "execution_count": 5,
      "outputs": [
        {
          "output_type": "execute_result",
          "data": {
            "text/html": [
              "<div>\n",
              "<style scoped>\n",
              "    .dataframe tbody tr th:only-of-type {\n",
              "        vertical-align: middle;\n",
              "    }\n",
              "\n",
              "    .dataframe tbody tr th {\n",
              "        vertical-align: top;\n",
              "    }\n",
              "\n",
              "    .dataframe thead th {\n",
              "        text-align: right;\n",
              "    }\n",
              "</style>\n",
              "<table border=\"1\" class=\"dataframe\">\n",
              "  <thead>\n",
              "    <tr style=\"text-align: right;\">\n",
              "      <th></th>\n",
              "      <th>group_1</th>\n",
              "      <th>group_2</th>\n",
              "      <th>group_3</th>\n",
              "      <th>group_4</th>\n",
              "      <th>group_5</th>\n",
              "      <th>group_6</th>\n",
              "      <th>group_7</th>\n",
              "      <th>group_8</th>\n",
              "      <th>group_9</th>\n",
              "      <th>group_10</th>\n",
              "      <th>group_11</th>\n",
              "      <th>group_12</th>\n",
              "      <th>group_13</th>\n",
              "      <th>group_14</th>\n",
              "    </tr>\n",
              "    <tr>\n",
              "      <th>name</th>\n",
              "      <th></th>\n",
              "      <th></th>\n",
              "      <th></th>\n",
              "      <th></th>\n",
              "      <th></th>\n",
              "      <th></th>\n",
              "      <th></th>\n",
              "      <th></th>\n",
              "      <th></th>\n",
              "      <th></th>\n",
              "      <th></th>\n",
              "      <th></th>\n",
              "      <th></th>\n",
              "      <th></th>\n",
              "    </tr>\n",
              "  </thead>\n",
              "  <tbody>\n",
              "    <tr>\n",
              "      <th>html</th>\n",
              "      <td>0</td>\n",
              "      <td>0</td>\n",
              "      <td>0</td>\n",
              "      <td>0</td>\n",
              "      <td>0</td>\n",
              "      <td>1</td>\n",
              "      <td>0</td>\n",
              "      <td>0</td>\n",
              "      <td>0</td>\n",
              "      <td>0</td>\n",
              "      <td>0</td>\n",
              "      <td>0</td>\n",
              "      <td>0</td>\n",
              "      <td>0</td>\n",
              "    </tr>\n",
              "    <tr>\n",
              "      <th>css</th>\n",
              "      <td>0</td>\n",
              "      <td>0</td>\n",
              "      <td>0</td>\n",
              "      <td>0</td>\n",
              "      <td>0</td>\n",
              "      <td>1</td>\n",
              "      <td>0</td>\n",
              "      <td>0</td>\n",
              "      <td>0</td>\n",
              "      <td>0</td>\n",
              "      <td>0</td>\n",
              "      <td>0</td>\n",
              "      <td>0</td>\n",
              "      <td>0</td>\n",
              "    </tr>\n",
              "    <tr>\n",
              "      <th>hibernate</th>\n",
              "      <td>0</td>\n",
              "      <td>0</td>\n",
              "      <td>0</td>\n",
              "      <td>0</td>\n",
              "      <td>0</td>\n",
              "      <td>0</td>\n",
              "      <td>0</td>\n",
              "      <td>1</td>\n",
              "      <td>0</td>\n",
              "      <td>0</td>\n",
              "      <td>0</td>\n",
              "      <td>0</td>\n",
              "      <td>0</td>\n",
              "      <td>0</td>\n",
              "    </tr>\n",
              "    <tr>\n",
              "      <th>spring</th>\n",
              "      <td>0</td>\n",
              "      <td>0</td>\n",
              "      <td>0</td>\n",
              "      <td>0</td>\n",
              "      <td>0</td>\n",
              "      <td>0</td>\n",
              "      <td>0</td>\n",
              "      <td>1</td>\n",
              "      <td>0</td>\n",
              "      <td>0</td>\n",
              "      <td>0</td>\n",
              "      <td>0</td>\n",
              "      <td>0</td>\n",
              "      <td>0</td>\n",
              "    </tr>\n",
              "    <tr>\n",
              "      <th>ruby</th>\n",
              "      <td>0</td>\n",
              "      <td>0</td>\n",
              "      <td>1</td>\n",
              "      <td>0</td>\n",
              "      <td>0</td>\n",
              "      <td>0</td>\n",
              "      <td>0</td>\n",
              "      <td>0</td>\n",
              "      <td>0</td>\n",
              "      <td>0</td>\n",
              "      <td>0</td>\n",
              "      <td>0</td>\n",
              "      <td>0</td>\n",
              "      <td>0</td>\n",
              "    </tr>\n",
              "    <tr>\n",
              "      <th>...</th>\n",
              "      <td>...</td>\n",
              "      <td>...</td>\n",
              "      <td>...</td>\n",
              "      <td>...</td>\n",
              "      <td>...</td>\n",
              "      <td>...</td>\n",
              "      <td>...</td>\n",
              "      <td>...</td>\n",
              "      <td>...</td>\n",
              "      <td>...</td>\n",
              "      <td>...</td>\n",
              "      <td>...</td>\n",
              "      <td>...</td>\n",
              "      <td>...</td>\n",
              "    </tr>\n",
              "    <tr>\n",
              "      <th>perl</th>\n",
              "      <td>0</td>\n",
              "      <td>0</td>\n",
              "      <td>0</td>\n",
              "      <td>0</td>\n",
              "      <td>0</td>\n",
              "      <td>0</td>\n",
              "      <td>0</td>\n",
              "      <td>0</td>\n",
              "      <td>0</td>\n",
              "      <td>0</td>\n",
              "      <td>0</td>\n",
              "      <td>0</td>\n",
              "      <td>1</td>\n",
              "      <td>0</td>\n",
              "    </tr>\n",
              "    <tr>\n",
              "      <th>cloud</th>\n",
              "      <td>0</td>\n",
              "      <td>0</td>\n",
              "      <td>0</td>\n",
              "      <td>0</td>\n",
              "      <td>0</td>\n",
              "      <td>0</td>\n",
              "      <td>0</td>\n",
              "      <td>0</td>\n",
              "      <td>1</td>\n",
              "      <td>0</td>\n",
              "      <td>0</td>\n",
              "      <td>0</td>\n",
              "      <td>0</td>\n",
              "      <td>0</td>\n",
              "    </tr>\n",
              "    <tr>\n",
              "      <th>photoshop</th>\n",
              "      <td>0</td>\n",
              "      <td>0</td>\n",
              "      <td>0</td>\n",
              "      <td>0</td>\n",
              "      <td>0</td>\n",
              "      <td>1</td>\n",
              "      <td>0</td>\n",
              "      <td>0</td>\n",
              "      <td>0</td>\n",
              "      <td>0</td>\n",
              "      <td>0</td>\n",
              "      <td>0</td>\n",
              "      <td>0</td>\n",
              "      <td>0</td>\n",
              "    </tr>\n",
              "    <tr>\n",
              "      <th>powershell</th>\n",
              "      <td>0</td>\n",
              "      <td>0</td>\n",
              "      <td>0</td>\n",
              "      <td>0</td>\n",
              "      <td>1</td>\n",
              "      <td>0</td>\n",
              "      <td>0</td>\n",
              "      <td>0</td>\n",
              "      <td>0</td>\n",
              "      <td>0</td>\n",
              "      <td>0</td>\n",
              "      <td>0</td>\n",
              "      <td>0</td>\n",
              "      <td>0</td>\n",
              "    </tr>\n",
              "    <tr>\n",
              "      <th>matlab</th>\n",
              "      <td>1</td>\n",
              "      <td>0</td>\n",
              "      <td>0</td>\n",
              "      <td>0</td>\n",
              "      <td>0</td>\n",
              "      <td>0</td>\n",
              "      <td>0</td>\n",
              "      <td>0</td>\n",
              "      <td>0</td>\n",
              "      <td>0</td>\n",
              "      <td>0</td>\n",
              "      <td>0</td>\n",
              "      <td>0</td>\n",
              "      <td>0</td>\n",
              "    </tr>\n",
              "  </tbody>\n",
              "</table>\n",
              "<p>115 rows × 14 columns</p>\n",
              "</div>"
            ],
            "text/plain": [
              "            group_1  group_2  group_3  ...  group_12  group_13  group_14\n",
              "name                                   ...                              \n",
              "html              0        0        0  ...         0         0         0\n",
              "css               0        0        0  ...         0         0         0\n",
              "hibernate         0        0        0  ...         0         0         0\n",
              "spring            0        0        0  ...         0         0         0\n",
              "ruby              0        0        1  ...         0         0         0\n",
              "...             ...      ...      ...  ...       ...       ...       ...\n",
              "perl              0        0        0  ...         0         1         0\n",
              "cloud             0        0        0  ...         0         0         0\n",
              "photoshop         0        0        0  ...         0         0         0\n",
              "powershell        0        0        0  ...         0         0         0\n",
              "matlab            1        0        0  ...         0         0         0\n",
              "\n",
              "[115 rows x 14 columns]"
            ]
          },
          "metadata": {
            "tags": []
          },
          "execution_count": 5
        }
      ]
    },
    {
      "cell_type": "markdown",
      "metadata": {
        "id": "beny47UQr49h"
      },
      "source": [
        "#### Graph creation using StellerGraph"
      ]
    },
    {
      "cell_type": "code",
      "metadata": {
        "id": "UFCM5AjgFhBg"
      },
      "source": [
        "from stellargraph import StellarGraph"
      ],
      "execution_count": 6,
      "outputs": []
    },
    {
      "cell_type": "code",
      "metadata": {
        "id": "PliNF_BpDl5Y",
        "colab": {
          "base_uri": "https://localhost:8080/"
        },
        "outputId": "9b1bd9f4-f1e0-47d1-de33-e087459fd668"
      },
      "source": [
        "keyword_features= StellarGraph({\"source\": keyword_features}, {\"target\": keyword_links})\n",
        "print(keyword_features.info())"
      ],
      "execution_count": 7,
      "outputs": [
        {
          "output_type": "stream",
          "text": [
            "StellarGraph: Undirected multigraph\n",
            " Nodes: 115, Edges: 490\n",
            "\n",
            " Node types:\n",
            "  source: [115]\n",
            "    Features: float32 vector, length 14\n",
            "    Edge types: source-target->source\n",
            "\n",
            " Edge types:\n",
            "    source-target->source: [490]\n",
            "        Weights: all 1 (default)\n"
          ],
          "name": "stdout"
        }
      ]
    },
    {
      "cell_type": "markdown",
      "metadata": {
        "id": "7SqF9x2br-si"
      },
      "source": [
        "#### Embedding generation using GraphSAGE"
      ]
    },
    {
      "cell_type": "code",
      "metadata": {
        "id": "oVlRTUsUHMQX"
      },
      "source": [
        "#Unsupervised GraphSAGE implementation starts here\n",
        "\n",
        "nodes = list(keyword_features.nodes())\n",
        "number_of_walks = 1\n",
        "length = 3\n",
        "\n",
        "unsupervised_samples = UnsupervisedSampler(\n",
        "    keyword_features, nodes=nodes, length=length, number_of_walks=number_of_walks\n",
        ")\n",
        "batch_size = 20\n",
        "epochs = 4\n",
        "num_samples = [5, 3]\n",
        "\n",
        "generator = GraphSAGELinkGenerator(keyword_features, batch_size, num_samples)\n",
        "train_gen = generator.flow(unsupervised_samples)\n",
        "\n",
        "layer_sizes = [15, 15]\n",
        "graphsage = GraphSAGE(\n",
        "    layer_sizes=layer_sizes, generator=generator, bias=True, dropout=0.0, normalize=\"l2\"\n",
        ")"
      ],
      "execution_count": 10,
      "outputs": []
    },
    {
      "cell_type": "code",
      "metadata": {
        "id": "Yc5hN_txHj5a"
      },
      "source": [
        "# Build the model and expose input and output sockets of graphsage, for node pair inputs:\n",
        "x_inp, x_out = graphsage.in_out_tensors()"
      ],
      "execution_count": 13,
      "outputs": []
    },
    {
      "cell_type": "code",
      "metadata": {
        "id": "Gz1B1LnmHmxe",
        "colab": {
          "base_uri": "https://localhost:8080/"
        },
        "outputId": "c466e498-c226-4f18-96b6-80f4ef7db7ff"
      },
      "source": [
        "prediction = link_classification(\n",
        "    output_dim=1, output_act=\"sigmoid\", edge_embedding_method=\"ip\"\n",
        ")(x_out)"
      ],
      "execution_count": 14,
      "outputs": [
        {
          "output_type": "stream",
          "text": [
            "link_classification: using 'ip' method to combine node embeddings into edge embeddings\n"
          ],
          "name": "stdout"
        }
      ]
    },
    {
      "cell_type": "code",
      "metadata": {
        "id": "uRCfKNa9HuQE",
        "colab": {
          "base_uri": "https://localhost:8080/"
        },
        "outputId": "6c9ccf62-c8c1-45a3-e80f-13048f0093f0"
      },
      "source": [
        "model = keras.Model(inputs=x_inp, outputs=prediction)\n",
        "\n",
        "model.compile(\n",
        "    optimizer=keras.optimizers.Adam(lr=1e-3),\n",
        "    loss=keras.losses.binary_crossentropy,\n",
        "    metrics=[keras.metrics.binary_accuracy],\n",
        ")"
      ],
      "execution_count": 15,
      "outputs": [
        {
          "output_type": "stream",
          "text": [
            "/usr/local/lib/python3.7/dist-packages/tensorflow/python/keras/optimizer_v2/optimizer_v2.py:375: UserWarning: The `lr` argument is deprecated, use `learning_rate` instead.\n",
            "  \"The `lr` argument is deprecated, use `learning_rate` instead.\")\n"
          ],
          "name": "stderr"
        }
      ]
    },
    {
      "cell_type": "code",
      "metadata": {
        "id": "6-yZjHc9HxU0",
        "colab": {
          "base_uri": "https://localhost:8080/"
        },
        "outputId": "03897c5f-e0b8-4e34-d838-4bbf79c875fb"
      },
      "source": [
        "#Model Training\n",
        "history = model.fit(\n",
        "    train_gen,\n",
        "    epochs=epochs,\n",
        "    verbose=1,\n",
        "    use_multiprocessing=False,\n",
        "    workers=4,\n",
        "    shuffle=True,\n",
        ")"
      ],
      "execution_count": 16,
      "outputs": [
        {
          "output_type": "stream",
          "text": [
            "Epoch 1/4\n",
            "23/23 [==============================] - 2s 8ms/step - loss: 0.6774 - binary_accuracy: 0.5087\n",
            "Epoch 2/4\n",
            "23/23 [==============================] - 0s 9ms/step - loss: 0.5957 - binary_accuracy: 0.6152\n",
            "Epoch 3/4\n",
            "23/23 [==============================] - 0s 11ms/step - loss: 0.5807 - binary_accuracy: 0.7022\n",
            "Epoch 4/4\n",
            "23/23 [==============================] - 0s 10ms/step - loss: 0.5519 - binary_accuracy: 0.7391\n"
          ],
          "name": "stdout"
        }
      ]
    },
    {
      "cell_type": "code",
      "metadata": {
        "id": "jGOmNY91H2o4"
      },
      "source": [
        "from sklearn.decomposition import PCA\n",
        "from sklearn.manifold import TSNE\n",
        "from stellargraph.mapper import GraphSAGENodeGenerator\n",
        "import pandas as pd\n",
        "import numpy as np\n",
        "import matplotlib.pyplot as plt\n",
        "\n",
        "%matplotlib inline"
      ],
      "execution_count": 17,
      "outputs": []
    },
    {
      "cell_type": "code",
      "metadata": {
        "id": "lXSJh270IJLN"
      },
      "source": [
        "x_inp_src = x_inp[0::2]\n",
        "x_out_src = x_out[0]\n",
        "embedding_model = keras.Model(inputs=x_inp_src, outputs=x_out_src)"
      ],
      "execution_count": 18,
      "outputs": []
    },
    {
      "cell_type": "code",
      "metadata": {
        "id": "jPO9gTFcIMTp"
      },
      "source": [
        "node_ids = keyword_group.index\n",
        "node_gen = GraphSAGENodeGenerator(keyword_features, batch_size, num_samples).flow(node_ids)"
      ],
      "execution_count": 19,
      "outputs": []
    },
    {
      "cell_type": "code",
      "metadata": {
        "id": "JF01ibzmJdM_",
        "colab": {
          "base_uri": "https://localhost:8080/"
        },
        "outputId": "a900cc76-eabf-4eb6-bd9a-a292939d757b"
      },
      "source": [
        "node_embeddings = embedding_model.predict(node_gen, workers=4, verbose=1)"
      ],
      "execution_count": 20,
      "outputs": [
        {
          "output_type": "stream",
          "text": [
            "6/6 [==============================] - 0s 15ms/step\n"
          ],
          "name": "stdout"
        }
      ]
    },
    {
      "cell_type": "code",
      "metadata": {
        "id": "WVW1KPseJj0X",
        "colab": {
          "base_uri": "https://localhost:8080/"
        },
        "outputId": "46a91ec5-71eb-46b2-ba3e-435af9c48567"
      },
      "source": [
        "node_embeddings.shape"
      ],
      "execution_count": 22,
      "outputs": [
        {
          "output_type": "execute_result",
          "data": {
            "text/plain": [
              "(115, 15)"
            ]
          },
          "metadata": {
            "tags": []
          },
          "execution_count": 22
        }
      ]
    },
    {
      "cell_type": "markdown",
      "metadata": {
        "id": "91rVO854rkyu"
      },
      "source": [
        "#### Clustering using embedding"
      ]
    },
    {
      "cell_type": "code",
      "metadata": {
        "id": "5MIa3uXqqf2H"
      },
      "source": [
        "!pip install hdbscan\n",
        "import hdbscan"
      ],
      "execution_count": null,
      "outputs": []
    },
    {
      "cell_type": "code",
      "metadata": {
        "colab": {
          "base_uri": "https://localhost:8080/"
        },
        "id": "qPPSyTwGqb6w",
        "outputId": "a1601d8c-a811-48e6-f675-d81be05c6b7b"
      },
      "source": [
        "cluster = hdbscan.HDBSCAN(min_cluster_size=5, min_samples=1, metric='euclidean', cluster_selection_method='eom').fit(node_embeddings)\n",
        "res = list(zip(list(keyword_group.index),cluster.labels_))\n",
        "cluster.labels_"
      ],
      "execution_count": 32,
      "outputs": [
        {
          "output_type": "execute_result",
          "data": {
            "text/plain": [
              "array([ 3,  3,  5,  5,  1,  1,  6,  6,  3,  2,  2,  4,  4,  6,  3,  3,  1,\n",
              "        1,  3,  3,  5,  4,  1,  5,  3,  3, -1, -1,  4,  1,  1,  1,  6,  7,\n",
              "        7, -1, -1,  4,  4,  4,  4,  6,  5, -1,  3,  2,  2, -1,  6,  7,  7,\n",
              "       -1,  3,  3,  4,  4,  3,  3,  2,  3,  5,  5,  5,  7,  7,  2,  2,  3,\n",
              "       -1, -1,  3,  5,  5, -1, -1,  6,  1, -1,  0,  0,  2,  7,  2,  2,  7,\n",
              "        7,  3,  1,  3,  2,  2,  0,  4,  1,  4,  7,  5,  4,  4,  0,  3,  7,\n",
              "        3,  4,  4,  4, -1,  5,  3,  4,  4,  0,  3,  7,  2])"
            ]
          },
          "metadata": {
            "tags": []
          },
          "execution_count": 32
        }
      ]
    },
    {
      "cell_type": "code",
      "metadata": {
        "colab": {
          "base_uri": "https://localhost:8080/"
        },
        "id": "kFl026fgrVFJ",
        "outputId": "fbd515d7-1f4f-440c-ea01-03c27c310103"
      },
      "source": [
        "cluster_dict = {}\n",
        "for i in range(-1,8):\n",
        "  l = []\n",
        "  for each in res:\n",
        "    if each[1]==i:\n",
        "      l.append(each[0])\n",
        "  cluster_dict[i] = l\n",
        "cluster_dict"
      ],
      "execution_count": 34,
      "outputs": [
        {
          "output_type": "execute_result",
          "data": {
            "text/plain": [
              "{-1: ['hadoop',\n",
              "  'apache-spark',\n",
              "  'excel',\n",
              "  'excel-vba',\n",
              "  'scala',\n",
              "  'vba',\n",
              "  'angularjs',\n",
              "  'tdd',\n",
              "  'agile',\n",
              "  'testing',\n",
              "  'selenium',\n",
              "  'jenkins',\n",
              "  'haskell'],\n",
              " 0: ['docker', 'amazon-web-services', 'go', 'devops', 'cloud'],\n",
              " 1: ['ruby',\n",
              "  'ruby-on-rails',\n",
              "  'redux',\n",
              "  'reactjs',\n",
              "  'react-native',\n",
              "  'express',\n",
              "  'node.js',\n",
              "  'mongodb',\n",
              "  'redis',\n",
              "  'elasticsearch',\n",
              "  'postgresql'],\n",
              " 2: ['c',\n",
              "  'c++',\n",
              "  'django',\n",
              "  'python',\n",
              "  'flask',\n",
              "  'angular2',\n",
              "  'typescript',\n",
              "  'angular',\n",
              "  'machine-learning',\n",
              "  'qt',\n",
              "  'r',\n",
              "  'embedded',\n",
              "  'matlab'],\n",
              " 3: ['html',\n",
              "  'css',\n",
              "  'html5',\n",
              "  'javascript',\n",
              "  'jquery',\n",
              "  'php',\n",
              "  'mysql',\n",
              "  'less',\n",
              "  'sass',\n",
              "  'ajax',\n",
              "  'asp.net-web-api',\n",
              "  'laravel',\n",
              "  'json',\n",
              "  'xml',\n",
              "  'wordpress',\n",
              "  'codeigniter',\n",
              "  'twitter-bootstrap',\n",
              "  'ionic-framework',\n",
              "  'vue.js',\n",
              "  'drupal',\n",
              "  'bootstrap',\n",
              "  'twitter-bootstrap-3',\n",
              "  'photoshop'],\n",
              " 4: ['asp.net',\n",
              "  'c#',\n",
              "  '.net',\n",
              "  'sql-server',\n",
              "  'entity-framework',\n",
              "  'linq',\n",
              "  'wcf',\n",
              "  'wpf',\n",
              "  'plsql',\n",
              "  'oracle',\n",
              "  'visual-studio',\n",
              "  'sql',\n",
              "  'vb.net',\n",
              "  'unity3d',\n",
              "  'xamarin',\n",
              "  'azure',\n",
              "  'mvc',\n",
              "  'regex',\n",
              "  'perl'],\n",
              " 5: ['hibernate',\n",
              "  'spring',\n",
              "  'spring-mvc',\n",
              "  'spring-boot',\n",
              "  'java',\n",
              "  'java-ee',\n",
              "  'maven',\n",
              "  'jsp',\n",
              "  'web-services',\n",
              "  'rest',\n",
              "  'eclipse',\n",
              "  'api'],\n",
              " 6: ['ios',\n",
              "  'swift',\n",
              "  'objective-c',\n",
              "  'iphone',\n",
              "  'android',\n",
              "  'xcode',\n",
              "  'android-studio'],\n",
              " 7: ['github',\n",
              "  'git',\n",
              "  'apache',\n",
              "  'nginx',\n",
              "  'bash',\n",
              "  'linux',\n",
              "  'osx',\n",
              "  'windows',\n",
              "  'ubuntu',\n",
              "  'unix',\n",
              "  'shell',\n",
              "  'powershell']}"
            ]
          },
          "metadata": {
            "tags": []
          },
          "execution_count": 34
        }
      ]
    },
    {
      "cell_type": "markdown",
      "metadata": {
        "id": "4YJFj4YFsGCC"
      },
      "source": [
        "#### Visualization [Dimension reduction using PCA]"
      ]
    },
    {
      "cell_type": "code",
      "metadata": {
        "id": "sgQl0h-lM1Hk"
      },
      "source": [
        "X = node_embeddings\n",
        "if X.shape[1] > 2:\n",
        "    transform = TSNE  # PCA\n",
        "\n",
        "    trans = transform(n_components=2)\n",
        "    emb_transformed = pd.DataFrame(trans.fit_transform(X), index=node_ids)\n",
        "    emb_transformed[\"label\"] = keyword_group_raw\n",
        "else:\n",
        "    emb_transformed = pd.DataFrame(X, index=node_ids)\n",
        "    emb_transformed = emb_transformed.rename(columns={\"0\": 0, \"1\": 1})\n",
        "    emb_transformed[\"label\"] = keyword_group_raw"
      ],
      "execution_count": 35,
      "outputs": []
    },
    {
      "cell_type": "code",
      "metadata": {
        "id": "9afil7TTTGIj",
        "colab": {
          "base_uri": "https://localhost:8080/",
          "height": 462
        },
        "outputId": "ac661fd8-0f21-4411-f7d5-9f06a22f63dd"
      },
      "source": [
        "alpha = 0.7\n",
        "\n",
        "fig, ax = plt.subplots(figsize=(7, 7))\n",
        "ax.scatter(\n",
        "    emb_transformed[0],\n",
        "    emb_transformed[1],\n",
        "    c=emb_transformed[\"label\"].astype(\"category\"),\n",
        "    cmap=\"jet\",\n",
        "    alpha=alpha,\n",
        ")\n",
        "ax.set(aspect=\"equal\", xlabel=\"$X_1$\", ylabel=\"$X_2$\")\n",
        "plt.title(\n",
        "    \"{} visualization of GraphSAGE embeddings for Stack Overflow Tag Network dataset\".format(transform.__name__)\n",
        ")\n",
        "plt.show()"
      ],
      "execution_count": null,
      "outputs": [
        {
          "output_type": "display_data",
          "data": {
            "image/png": "[encoded data removed]",
            "text/plain": [
              "<Figure size 504x504 with 1 Axes>"
            ]
          },
          "metadata": {
            "tags": [],
            "needs_background": "light"
          }
        }
      ]
    }
  ]
}